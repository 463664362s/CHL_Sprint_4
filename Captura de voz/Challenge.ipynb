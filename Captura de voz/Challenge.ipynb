{
 "cells": [
  {
   "cell_type": "code",
   "execution_count": 1,
   "id": "74bb7a59",
   "metadata": {},
   "outputs": [
    {
     "name": "stdout",
     "output_type": "stream",
     "text": [
      "\n",
      "  Listening...\n",
      "\n",
      "  Recognizing...\n",
      "\n",
      "Voce disse...\n",
      "\n",
      "um dois três testando\n"
     ]
    }
   ],
   "source": [
    "import speech_recognition as sr\n",
    "import pyttsx3, speech_recognition as sr\n",
    "import pyttsx3\n",
    "import requests\n",
    "\n",
    "en = pyttsx3.init()\n",
    "\n",
    "msg = \"Seja Bem vindo ao nosso programa de acessibilidade!\" \n",
    "\n",
    "en.say(msg)\n",
    "en.runAndWait()\n",
    "\n",
    "engine = pyttsx3.init()\n",
    "\n",
    "voices = engine.getProperty(\"voices\") \n",
    "engine.setProperty('voice', voices[0].id)\n",
    "engine.setProperty('volume', 1)\n",
    "engine.setProperty(\"rate\", 155)\n",
    "\n",
    "\n",
    "engine.runAndWait() \n",
    "\n",
    "def speak(audio):\n",
    "    engine.say(audio)\n",
    "    engine.runAndWait()\n",
    "\n",
    "def command():\n",
    "    r = sr.Recognizer()\n",
    "    with sr.Microphone() as source:\n",
    "        print(\"\\n  Listening...\\n\")\n",
    "        speak('ouvindo.')\n",
    "        r.adjust_for_ambient_noise = 1.25\n",
    "        r.pause_threshold = 1\n",
    "        audio = r.listen(source)\n",
    "    try:\n",
    "        print(\"  Recognizing...\\n\")\n",
    "        speak('Reconhecendo.')\n",
    "        query = r.recognize_google(audio, language='pt')\n",
    "    except:\n",
    "        return \"©empty_^_^_queryª\"\n",
    "    return query\n",
    "\n",
    "speak(\"Iniciando a conversão\")\n",
    "if __name__ == \"__main__\":\n",
    "    while True:\n",
    "\n",
    "        query = command().lower()\n",
    "        if '1' in query:\n",
    "            speak(query)\n",
    "            break\n",
    "        else:\n",
    "            print(\"Voce disse...\\n\")\n",
    "            print(query)\n",
    "            \n",
    "            requests.post(\"https://vozapi.azurewebsites.net/api/voz/\", json={'frase': query})\n",
    "            break"
   ]
  },
  {
   "cell_type": "code",
   "execution_count": null,
   "id": "e5d4c1de",
   "metadata": {},
   "outputs": [],
   "source": []
  },
  {
   "cell_type": "code",
   "execution_count": null,
   "id": "7f0df3eb",
   "metadata": {},
   "outputs": [],
   "source": []
  }
 ],
 "metadata": {
  "kernelspec": {
   "display_name": "Python 3.9.2 64-bit",
   "language": "python",
   "name": "python3"
  },
  "language_info": {
   "codemirror_mode": {
    "name": "ipython",
    "version": 3
   },
   "file_extension": ".py",
   "mimetype": "text/x-python",
   "name": "python",
   "nbconvert_exporter": "python",
   "pygments_lexer": "ipython3",
   "version": "3.9.2"
  },
  "vscode": {
   "interpreter": {
    "hash": "dbffe079751ae3f1655cd23578c646be6fc0ba378fcbf091db036cbdcae63bf4"
   }
  }
 },
 "nbformat": 4,
 "nbformat_minor": 5
}
